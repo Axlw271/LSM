{
 "cells": [
  {
   "cell_type": "code",
   "execution_count": 96,
   "metadata": {
    "colab": {
     "base_uri": "https://localhost:8080/",
     "height": 356
    },
    "id": "UIyAQ8OVjvjX",
    "outputId": "2991d4a1-63c1-49f9-fb86-49178356a751"
   },
   "outputs": [],
   "source": [
    "# importando librerias\n",
    "import cv2\n",
    "import numpy as np\n",
    "import os\n",
    "from matplotlib import pyplot as plt\n",
    "import time\n",
    "import mediapipe as mp\n",
    "import tensorflow as tf\n",
    "from sklearn.model_selection import train_test_split\n",
    "from tensorflow.keras.utils import to_categorical\n",
    "from tensorflow.keras.callbacks import TensorBoard\n",
    "from sklearn.metrics import multilabel_confusion_matrix, accuracy_score\n",
    "from tensorflow.keras.models import Sequential\n",
    "from tensorflow.keras.layers import LSTM, Dense, Dropout, BatchNormalization\n",
    "from tensorflow.keras.optimizers import Adam\n",
    "from tensorflow.keras.callbacks import EarlyStopping\n",
    "from sklearn.metrics import confusion_matrix\n",
    "import seaborn as sns\n"
   ]
  },
  {
   "cell_type": "markdown",
   "metadata": {
    "id": "EKz_ca03jvjZ"
   },
   "source": [
    "2. Keypoints using MP Holistic\n"
   ]
  },
  {
   "cell_type": "code",
   "execution_count": 97,
   "metadata": {
    "id": "3ZGR92DXjvjb"
   },
   "outputs": [],
   "source": [
    "mp_holistic = mp.solutions.holistic #Modelo Holistico\n",
    "mp_drawing = mp.solutions.drawing_utils # Draw utilities dibuja puntos en la cada"
   ]
  },
  {
   "cell_type": "markdown",
   "metadata": {
    "id": "mjU86zkujvjn"
   },
   "source": [
    "4. Setup Folders for Collection\n"
   ]
  },
  {
   "cell_type": "code",
   "execution_count": 98,
   "metadata": {
    "id": "ObK2VmGjjvjn"
   },
   "outputs": [],
   "source": [
    "# Path for exported data, numpy arrays\n",
    "DATA_PATH = r'C:\\Users\\METIC\\Documents\\GitHub\\LSM\\MP_Prueba1'\n",
    "\n",
    "# Actions that we try to detect\n",
    "actions = np.array(['Auxilio', 'Ayuda', 'Emergencia', 'Peligro', 'Urgente'])\n",
    "\n",
    "# Thirty videos worth of data\n",
    "no_sequences = 40\n",
    "\n",
    "# Videos are going to be 30 frames in length\n",
    "sequence_length = 30"
   ]
  },
  {
   "cell_type": "markdown",
   "metadata": {
    "id": "GC6XqY6xjvjp"
   },
   "source": [
    "6. Preprocess Data and Create Labels and Features\n"
   ]
  },
  {
   "cell_type": "code",
   "execution_count": 99,
   "metadata": {
    "id": "7MLg1oHwjvjp"
   },
   "outputs": [
    {
     "data": {
      "text/plain": [
       "{'Auxilio': 0, 'Ayuda': 1, 'Emergencia': 2, 'Peligro': 3, 'Urgente': 4}"
      ]
     },
     "execution_count": 99,
     "metadata": {},
     "output_type": "execute_result"
    }
   ],
   "source": [
    "label_map = {label:num for num, label in enumerate(actions)}\n",
    "label_map"
   ]
  },
  {
   "cell_type": "code",
   "execution_count": 100,
   "metadata": {
    "id": "cLyRCrpdjvjw"
   },
   "outputs": [],
   "source": [
    "sequences, labels = [], []\n",
    "for action in actions:\n",
    "    for sequence in range(no_sequences):\n",
    "        window = []\n",
    "        for frame_num in range(sequence_length):\n",
    "            res = np.load(os.path.join(DATA_PATH, action, str(sequence), \"{}.npy\".format(frame_num)))\n",
    "            window.append(res)\n",
    "        sequences.append(window)\n",
    "        labels.append(label_map[action])"
   ]
  },
  {
   "cell_type": "code",
   "execution_count": 101,
   "metadata": {
    "id": "Vpz9UURyjvjw",
    "outputId": "eb3a94da-4d16-47a7-e436-63d57349d8c5"
   },
   "outputs": [
    {
     "data": {
      "text/plain": [
       "(200, 30, 1662)"
      ]
     },
     "execution_count": 101,
     "metadata": {},
     "output_type": "execute_result"
    }
   ],
   "source": [
    "np.array(sequences).shape"
   ]
  },
  {
   "cell_type": "code",
   "execution_count": 102,
   "metadata": {
    "id": "BLmSAaQcjvjw",
    "outputId": "b28ca49a-0306-4c4a-fbda-a0cc3b8eee03"
   },
   "outputs": [
    {
     "data": {
      "text/plain": [
       "(200,)"
      ]
     },
     "execution_count": 102,
     "metadata": {},
     "output_type": "execute_result"
    }
   ],
   "source": [
    "np.array(labels).shape"
   ]
  },
  {
   "cell_type": "code",
   "execution_count": 103,
   "metadata": {
    "id": "L82_ePdSjvjx"
   },
   "outputs": [],
   "source": [
    "X = np.array(sequences)"
   ]
  },
  {
   "cell_type": "code",
   "execution_count": 104,
   "metadata": {
    "id": "RdkvWj2zjvjx"
   },
   "outputs": [],
   "source": [
    "y = to_categorical(labels).astype(int)"
   ]
  },
  {
   "cell_type": "code",
   "execution_count": 105,
   "metadata": {
    "id": "LllMM6Ljjvjy"
   },
   "outputs": [],
   "source": [
    "X_train, X_test, y_train, y_test = train_test_split(X, y, test_size=0.05)"
   ]
  },
  {
   "cell_type": "code",
   "execution_count": 106,
   "metadata": {
    "id": "R14S9ro6jvjy",
    "outputId": "4afb9e9d-e693-4ed1-c5b2-f3f2bf3dbd6f"
   },
   "outputs": [
    {
     "data": {
      "text/plain": [
       "(10, 5)"
      ]
     },
     "execution_count": 106,
     "metadata": {},
     "output_type": "execute_result"
    }
   ],
   "source": [
    "y_test.shape"
   ]
  },
  {
   "cell_type": "markdown",
   "metadata": {
    "id": "QEK_TEaxjvjz"
   },
   "source": [
    "7. Build and Train LSTM Neural Network\n"
   ]
  },
  {
   "cell_type": "code",
   "execution_count": 107,
   "metadata": {
    "id": "BqvAy_Vmjvjz"
   },
   "outputs": [],
   "source": [
    "log_dir = os.path.join('Logs')\n",
    "tb_callback = TensorBoard(log_dir=log_dir)"
   ]
  },
  {
   "cell_type": "code",
   "execution_count": 108,
   "metadata": {},
   "outputs": [
    {
     "name": "stdout",
     "output_type": "stream",
     "text": [
      "(200, 30, 1662)\n"
     ]
    }
   ],
   "source": [
    "print(X.shape)"
   ]
  },
  {
   "cell_type": "code",
   "execution_count": 109,
   "metadata": {},
   "outputs": [
    {
     "name": "stderr",
     "output_type": "stream",
     "text": [
      "c:\\Users\\METIC\\anaconda3\\envs\\LSMenv\\lib\\site-packages\\keras\\src\\layers\\rnn\\rnn.py:199: UserWarning: Do not pass an `input_shape`/`input_dim` argument to a layer. When using Sequential models, prefer using an `Input(shape)` object as the first layer in the model instead.\n",
      "  super().__init__(**kwargs)\n"
     ]
    }
   ],
   "source": [
    "model = Sequential()\n",
    "model.add(LSTM(64, return_sequences=True, activation='tanh', input_shape=(30, 1662)))\n",
    "model.add(BatchNormalization())\n",
    "model.add(Dropout(0.3))\n",
    "\n",
    "model.add(LSTM(32, return_sequences=False, activation='tanh'))\n",
    "model.add(BatchNormalization())\n",
    "model.add(Dropout(0.3))\n",
    "\n",
    "model.add(Dense(32, activation='relu'))\n",
    "model.add(Dropout(0.2))\n",
    "\n",
    "model.add(Dense(5, activation='softmax'))  #5 clases\n"
   ]
  },
  {
   "cell_type": "code",
   "execution_count": 110,
   "metadata": {
    "id": "M7HHjI_Ujvj0"
   },
   "outputs": [
    {
     "data": {
      "text/plain": [
       "'Urgente'"
      ]
     },
     "execution_count": 110,
     "metadata": {},
     "output_type": "execute_result"
    }
   ],
   "source": [
    "res = [0.2, 0.2, 0.1, 0.2, 0.3]\n",
    "actions[np.argmax(res)]"
   ]
  },
  {
   "cell_type": "code",
   "execution_count": 111,
   "metadata": {},
   "outputs": [
    {
     "name": "stdout",
     "output_type": "stream",
     "text": [
      "Epoch 1/500\n",
      "\u001b[1m10/10\u001b[0m \u001b[32m━━━━━━━━━━━━━━━━━━━━\u001b[0m\u001b[37m\u001b[0m \u001b[1m3s\u001b[0m 67ms/step - categorical_accuracy: 0.1823 - loss: 2.2663 - val_categorical_accuracy: 0.1053 - val_loss: 1.6322\n",
      "Epoch 2/500\n",
      "\u001b[1m10/10\u001b[0m \u001b[32m━━━━━━━━━━━━━━━━━━━━\u001b[0m\u001b[37m\u001b[0m \u001b[1m0s\u001b[0m 28ms/step - categorical_accuracy: 0.2189 - loss: 2.0641 - val_categorical_accuracy: 0.1053 - val_loss: 1.6184\n",
      "Epoch 3/500\n",
      "\u001b[1m10/10\u001b[0m \u001b[32m━━━━━━━━━━━━━━━━━━━━\u001b[0m\u001b[37m\u001b[0m \u001b[1m0s\u001b[0m 29ms/step - categorical_accuracy: 0.3253 - loss: 1.7511 - val_categorical_accuracy: 0.1316 - val_loss: 1.6089\n",
      "Epoch 4/500\n",
      "\u001b[1m10/10\u001b[0m \u001b[32m━━━━━━━━━━━━━━━━━━━━\u001b[0m\u001b[37m\u001b[0m \u001b[1m0s\u001b[0m 28ms/step - categorical_accuracy: 0.4434 - loss: 1.5451 - val_categorical_accuracy: 0.2632 - val_loss: 1.6027\n",
      "Epoch 5/500\n",
      "\u001b[1m10/10\u001b[0m \u001b[32m━━━━━━━━━━━━━━━━━━━━\u001b[0m\u001b[37m\u001b[0m \u001b[1m0s\u001b[0m 28ms/step - categorical_accuracy: 0.4188 - loss: 1.4540 - val_categorical_accuracy: 0.2105 - val_loss: 1.6013\n",
      "Epoch 6/500\n",
      "\u001b[1m10/10\u001b[0m \u001b[32m━━━━━━━━━━━━━━━━━━━━\u001b[0m\u001b[37m\u001b[0m \u001b[1m0s\u001b[0m 29ms/step - categorical_accuracy: 0.4463 - loss: 1.4663 - val_categorical_accuracy: 0.2368 - val_loss: 1.5891\n",
      "Epoch 7/500\n",
      "\u001b[1m10/10\u001b[0m \u001b[32m━━━━━━━━━━━━━━━━━━━━\u001b[0m\u001b[37m\u001b[0m \u001b[1m0s\u001b[0m 29ms/step - categorical_accuracy: 0.4287 - loss: 1.4288 - val_categorical_accuracy: 0.3158 - val_loss: 1.5847\n",
      "Epoch 8/500\n",
      "\u001b[1m10/10\u001b[0m \u001b[32m━━━━━━━━━━━━━━━━━━━━\u001b[0m\u001b[37m\u001b[0m \u001b[1m0s\u001b[0m 29ms/step - categorical_accuracy: 0.4871 - loss: 1.3021 - val_categorical_accuracy: 0.3158 - val_loss: 1.5793\n",
      "Epoch 9/500\n",
      "\u001b[1m10/10\u001b[0m \u001b[32m━━━━━━━━━━━━━━━━━━━━\u001b[0m\u001b[37m\u001b[0m \u001b[1m0s\u001b[0m 28ms/step - categorical_accuracy: 0.4810 - loss: 1.3445 - val_categorical_accuracy: 0.3421 - val_loss: 1.5735\n",
      "Epoch 10/500\n",
      "\u001b[1m10/10\u001b[0m \u001b[32m━━━━━━━━━━━━━━━━━━━━\u001b[0m\u001b[37m\u001b[0m \u001b[1m0s\u001b[0m 29ms/step - categorical_accuracy: 0.4279 - loss: 1.3772 - val_categorical_accuracy: 0.3158 - val_loss: 1.5694\n",
      "Epoch 11/500\n",
      "\u001b[1m10/10\u001b[0m \u001b[32m━━━━━━━━━━━━━━━━━━━━\u001b[0m\u001b[37m\u001b[0m \u001b[1m0s\u001b[0m 29ms/step - categorical_accuracy: 0.5618 - loss: 1.2172 - val_categorical_accuracy: 0.3684 - val_loss: 1.5601\n",
      "Epoch 12/500\n",
      "\u001b[1m10/10\u001b[0m \u001b[32m━━━━━━━━━━━━━━━━━━━━\u001b[0m\u001b[37m\u001b[0m \u001b[1m0s\u001b[0m 31ms/step - categorical_accuracy: 0.5131 - loss: 1.1461 - val_categorical_accuracy: 0.3158 - val_loss: 1.5564\n",
      "Epoch 13/500\n",
      "\u001b[1m10/10\u001b[0m \u001b[32m━━━━━━━━━━━━━━━━━━━━\u001b[0m\u001b[37m\u001b[0m \u001b[1m0s\u001b[0m 29ms/step - categorical_accuracy: 0.5341 - loss: 1.2555 - val_categorical_accuracy: 0.3684 - val_loss: 1.5489\n",
      "Epoch 14/500\n",
      "\u001b[1m10/10\u001b[0m \u001b[32m━━━━━━━━━━━━━━━━━━━━\u001b[0m\u001b[37m\u001b[0m \u001b[1m0s\u001b[0m 30ms/step - categorical_accuracy: 0.4573 - loss: 1.3558 - val_categorical_accuracy: 0.3684 - val_loss: 1.5365\n",
      "Epoch 15/500\n",
      "\u001b[1m10/10\u001b[0m \u001b[32m━━━━━━━━━━━━━━━━━━━━\u001b[0m\u001b[37m\u001b[0m \u001b[1m0s\u001b[0m 30ms/step - categorical_accuracy: 0.5501 - loss: 1.2171 - val_categorical_accuracy: 0.5263 - val_loss: 1.5112\n",
      "Epoch 16/500\n",
      "\u001b[1m10/10\u001b[0m \u001b[32m━━━━━━━━━━━━━━━━━━━━\u001b[0m\u001b[37m\u001b[0m \u001b[1m0s\u001b[0m 29ms/step - categorical_accuracy: 0.5334 - loss: 1.2355 - val_categorical_accuracy: 0.6053 - val_loss: 1.4939\n",
      "Epoch 17/500\n",
      "\u001b[1m10/10\u001b[0m \u001b[32m━━━━━━━━━━━━━━━━━━━━\u001b[0m\u001b[37m\u001b[0m \u001b[1m0s\u001b[0m 31ms/step - categorical_accuracy: 0.5640 - loss: 1.1578 - val_categorical_accuracy: 0.5789 - val_loss: 1.4901\n",
      "Epoch 18/500\n",
      "\u001b[1m10/10\u001b[0m \u001b[32m━━━━━━━━━━━━━━━━━━━━\u001b[0m\u001b[37m\u001b[0m \u001b[1m0s\u001b[0m 28ms/step - categorical_accuracy: 0.6096 - loss: 1.0534 - val_categorical_accuracy: 0.4211 - val_loss: 1.4758\n",
      "Epoch 19/500\n",
      "\u001b[1m10/10\u001b[0m \u001b[32m━━━━━━━━━━━━━━━━━━━━\u001b[0m\u001b[37m\u001b[0m \u001b[1m0s\u001b[0m 28ms/step - categorical_accuracy: 0.7096 - loss: 0.8771 - val_categorical_accuracy: 0.4737 - val_loss: 1.4900\n",
      "Epoch 20/500\n",
      "\u001b[1m10/10\u001b[0m \u001b[32m━━━━━━━━━━━━━━━━━━━━\u001b[0m\u001b[37m\u001b[0m \u001b[1m0s\u001b[0m 29ms/step - categorical_accuracy: 0.6513 - loss: 0.9464 - val_categorical_accuracy: 0.5000 - val_loss: 1.4477\n",
      "Epoch 21/500\n",
      "\u001b[1m10/10\u001b[0m \u001b[32m━━━━━━━━━━━━━━━━━━━━\u001b[0m\u001b[37m\u001b[0m \u001b[1m0s\u001b[0m 29ms/step - categorical_accuracy: 0.5778 - loss: 1.2618 - val_categorical_accuracy: 0.5000 - val_loss: 1.4347\n",
      "Epoch 22/500\n",
      "\u001b[1m10/10\u001b[0m \u001b[32m━━━━━━━━━━━━━━━━━━━━\u001b[0m\u001b[37m\u001b[0m \u001b[1m0s\u001b[0m 28ms/step - categorical_accuracy: 0.6727 - loss: 0.9799 - val_categorical_accuracy: 0.4474 - val_loss: 1.4392\n",
      "Epoch 23/500\n",
      "\u001b[1m10/10\u001b[0m \u001b[32m━━━━━━━━━━━━━━━━━━━━\u001b[0m\u001b[37m\u001b[0m \u001b[1m0s\u001b[0m 28ms/step - categorical_accuracy: 0.6246 - loss: 0.9796 - val_categorical_accuracy: 0.3421 - val_loss: 1.4664\n",
      "Epoch 24/500\n",
      "\u001b[1m10/10\u001b[0m \u001b[32m━━━━━━━━━━━━━━━━━━━━\u001b[0m\u001b[37m\u001b[0m \u001b[1m0s\u001b[0m 32ms/step - categorical_accuracy: 0.6633 - loss: 0.9929 - val_categorical_accuracy: 0.4737 - val_loss: 1.4529\n",
      "Epoch 25/500\n",
      "\u001b[1m10/10\u001b[0m \u001b[32m━━━━━━━━━━━━━━━━━━━━\u001b[0m\u001b[37m\u001b[0m \u001b[1m0s\u001b[0m 32ms/step - categorical_accuracy: 0.7249 - loss: 0.8029 - val_categorical_accuracy: 0.4211 - val_loss: 1.4107\n",
      "Epoch 26/500\n",
      "\u001b[1m10/10\u001b[0m \u001b[32m━━━━━━━━━━━━━━━━━━━━\u001b[0m\u001b[37m\u001b[0m \u001b[1m0s\u001b[0m 31ms/step - categorical_accuracy: 0.6461 - loss: 0.8731 - val_categorical_accuracy: 0.3684 - val_loss: 1.4946\n",
      "Epoch 27/500\n",
      "\u001b[1m10/10\u001b[0m \u001b[32m━━━━━━━━━━━━━━━━━━━━\u001b[0m\u001b[37m\u001b[0m \u001b[1m0s\u001b[0m 29ms/step - categorical_accuracy: 0.7301 - loss: 0.8011 - val_categorical_accuracy: 0.3947 - val_loss: 1.4872\n",
      "Epoch 28/500\n",
      "\u001b[1m10/10\u001b[0m \u001b[32m━━━━━━━━━━━━━━━━━━━━\u001b[0m\u001b[37m\u001b[0m \u001b[1m0s\u001b[0m 29ms/step - categorical_accuracy: 0.6993 - loss: 0.8177 - val_categorical_accuracy: 0.4211 - val_loss: 1.3733\n",
      "Epoch 29/500\n",
      "\u001b[1m10/10\u001b[0m \u001b[32m━━━━━━━━━━━━━━━━━━━━\u001b[0m\u001b[37m\u001b[0m \u001b[1m0s\u001b[0m 31ms/step - categorical_accuracy: 0.6866 - loss: 0.9046 - val_categorical_accuracy: 0.7632 - val_loss: 1.2683\n",
      "Epoch 30/500\n",
      "\u001b[1m10/10\u001b[0m \u001b[32m━━━━━━━━━━━━━━━━━━━━\u001b[0m\u001b[37m\u001b[0m \u001b[1m0s\u001b[0m 29ms/step - categorical_accuracy: 0.7189 - loss: 0.8176 - val_categorical_accuracy: 0.5000 - val_loss: 1.3101\n",
      "Epoch 31/500\n",
      "\u001b[1m10/10\u001b[0m \u001b[32m━━━━━━━━━━━━━━━━━━━━\u001b[0m\u001b[37m\u001b[0m \u001b[1m0s\u001b[0m 29ms/step - categorical_accuracy: 0.7592 - loss: 0.7173 - val_categorical_accuracy: 0.3158 - val_loss: 1.5123\n",
      "Epoch 32/500\n",
      "\u001b[1m10/10\u001b[0m \u001b[32m━━━━━━━━━━━━━━━━━━━━\u001b[0m\u001b[37m\u001b[0m \u001b[1m0s\u001b[0m 27ms/step - categorical_accuracy: 0.7030 - loss: 0.8969 - val_categorical_accuracy: 0.3158 - val_loss: 1.5441\n",
      "Epoch 33/500\n",
      "\u001b[1m10/10\u001b[0m \u001b[32m━━━━━━━━━━━━━━━━━━━━\u001b[0m\u001b[37m\u001b[0m \u001b[1m0s\u001b[0m 29ms/step - categorical_accuracy: 0.6888 - loss: 0.7516 - val_categorical_accuracy: 0.4737 - val_loss: 1.3396\n",
      "Epoch 34/500\n",
      "\u001b[1m10/10\u001b[0m \u001b[32m━━━━━━━━━━━━━━━━━━━━\u001b[0m\u001b[37m\u001b[0m \u001b[1m0s\u001b[0m 29ms/step - categorical_accuracy: 0.6520 - loss: 0.8382 - val_categorical_accuracy: 0.6053 - val_loss: 1.2571\n",
      "Epoch 35/500\n",
      "\u001b[1m10/10\u001b[0m \u001b[32m━━━━━━━━━━━━━━━━━━━━\u001b[0m\u001b[37m\u001b[0m \u001b[1m0s\u001b[0m 29ms/step - categorical_accuracy: 0.7808 - loss: 0.7390 - val_categorical_accuracy: 0.3947 - val_loss: 1.3208\n",
      "Epoch 36/500\n",
      "\u001b[1m10/10\u001b[0m \u001b[32m━━━━━━━━━━━━━━━━━━━━\u001b[0m\u001b[37m\u001b[0m \u001b[1m0s\u001b[0m 29ms/step - categorical_accuracy: 0.7443 - loss: 0.8132 - val_categorical_accuracy: 0.5000 - val_loss: 1.2709\n",
      "Epoch 37/500\n",
      "\u001b[1m10/10\u001b[0m \u001b[32m━━━━━━━━━━━━━━━━━━━━\u001b[0m\u001b[37m\u001b[0m \u001b[1m0s\u001b[0m 29ms/step - categorical_accuracy: 0.7376 - loss: 0.7897 - val_categorical_accuracy: 0.5263 - val_loss: 1.2365\n",
      "Epoch 38/500\n",
      "\u001b[1m10/10\u001b[0m \u001b[32m━━━━━━━━━━━━━━━━━━━━\u001b[0m\u001b[37m\u001b[0m \u001b[1m0s\u001b[0m 29ms/step - categorical_accuracy: 0.7418 - loss: 0.7467 - val_categorical_accuracy: 0.4211 - val_loss: 1.3529\n",
      "Epoch 39/500\n",
      "\u001b[1m10/10\u001b[0m \u001b[32m━━━━━━━━━━━━━━━━━━━━\u001b[0m\u001b[37m\u001b[0m \u001b[1m0s\u001b[0m 28ms/step - categorical_accuracy: 0.8012 - loss: 0.6762 - val_categorical_accuracy: 0.4211 - val_loss: 1.3546\n",
      "Epoch 40/500\n",
      "\u001b[1m10/10\u001b[0m \u001b[32m━━━━━━━━━━━━━━━━━━━━\u001b[0m\u001b[37m\u001b[0m \u001b[1m0s\u001b[0m 29ms/step - categorical_accuracy: 0.7219 - loss: 0.7546 - val_categorical_accuracy: 0.3158 - val_loss: 1.4823\n",
      "Epoch 41/500\n",
      "\u001b[1m10/10\u001b[0m \u001b[32m━━━━━━━━━━━━━━━━━━━━\u001b[0m\u001b[37m\u001b[0m \u001b[1m0s\u001b[0m 30ms/step - categorical_accuracy: 0.8322 - loss: 0.6543 - val_categorical_accuracy: 0.3158 - val_loss: 1.4550\n",
      "Epoch 42/500\n",
      "\u001b[1m10/10\u001b[0m \u001b[32m━━━━━━━━━━━━━━━━━━━━\u001b[0m\u001b[37m\u001b[0m \u001b[1m0s\u001b[0m 30ms/step - categorical_accuracy: 0.7333 - loss: 0.7860 - val_categorical_accuracy: 0.5263 - val_loss: 1.1692\n",
      "Epoch 43/500\n",
      "\u001b[1m10/10\u001b[0m \u001b[32m━━━━━━━━━━━━━━━━━━━━\u001b[0m\u001b[37m\u001b[0m \u001b[1m0s\u001b[0m 28ms/step - categorical_accuracy: 0.7784 - loss: 0.6816 - val_categorical_accuracy: 0.3684 - val_loss: 1.5099\n",
      "Epoch 44/500\n",
      "\u001b[1m10/10\u001b[0m \u001b[32m━━━━━━━━━━━━━━━━━━━━\u001b[0m\u001b[37m\u001b[0m \u001b[1m0s\u001b[0m 29ms/step - categorical_accuracy: 0.7813 - loss: 0.6981 - val_categorical_accuracy: 0.4737 - val_loss: 1.6089\n",
      "Epoch 45/500\n",
      "\u001b[1m10/10\u001b[0m \u001b[32m━━━━━━━━━━━━━━━━━━━━\u001b[0m\u001b[37m\u001b[0m \u001b[1m0s\u001b[0m 29ms/step - categorical_accuracy: 0.8234 - loss: 0.5917 - val_categorical_accuracy: 0.4737 - val_loss: 1.5041\n",
      "Epoch 46/500\n",
      "\u001b[1m10/10\u001b[0m \u001b[32m━━━━━━━━━━━━━━━━━━━━\u001b[0m\u001b[37m\u001b[0m \u001b[1m0s\u001b[0m 29ms/step - categorical_accuracy: 0.7521 - loss: 0.7150 - val_categorical_accuracy: 0.5526 - val_loss: 1.1592\n",
      "Epoch 47/500\n",
      "\u001b[1m10/10\u001b[0m \u001b[32m━━━━━━━━━━━━━━━━━━━━\u001b[0m\u001b[37m\u001b[0m \u001b[1m0s\u001b[0m 29ms/step - categorical_accuracy: 0.8152 - loss: 0.6724 - val_categorical_accuracy: 0.7632 - val_loss: 0.8855\n",
      "Epoch 48/500\n",
      "\u001b[1m10/10\u001b[0m \u001b[32m━━━━━━━━━━━━━━━━━━━━\u001b[0m\u001b[37m\u001b[0m \u001b[1m0s\u001b[0m 29ms/step - categorical_accuracy: 0.8194 - loss: 0.5822 - val_categorical_accuracy: 0.8421 - val_loss: 0.8385\n",
      "Epoch 49/500\n",
      "\u001b[1m10/10\u001b[0m \u001b[32m━━━━━━━━━━━━━━━━━━━━\u001b[0m\u001b[37m\u001b[0m \u001b[1m0s\u001b[0m 28ms/step - categorical_accuracy: 0.7704 - loss: 0.6233 - val_categorical_accuracy: 0.6842 - val_loss: 0.9601\n",
      "Epoch 50/500\n",
      "\u001b[1m10/10\u001b[0m \u001b[32m━━━━━━━━━━━━━━━━━━━━\u001b[0m\u001b[37m\u001b[0m \u001b[1m0s\u001b[0m 33ms/step - categorical_accuracy: 0.8174 - loss: 0.6666 - val_categorical_accuracy: 0.7105 - val_loss: 1.0456\n",
      "Epoch 51/500\n",
      "\u001b[1m10/10\u001b[0m \u001b[32m━━━━━━━━━━━━━━━━━━━━\u001b[0m\u001b[37m\u001b[0m \u001b[1m0s\u001b[0m 28ms/step - categorical_accuracy: 0.7243 - loss: 0.6918 - val_categorical_accuracy: 0.6053 - val_loss: 1.0651\n",
      "Epoch 52/500\n",
      "\u001b[1m10/10\u001b[0m \u001b[32m━━━━━━━━━━━━━━━━━━━━\u001b[0m\u001b[37m\u001b[0m \u001b[1m0s\u001b[0m 29ms/step - categorical_accuracy: 0.7696 - loss: 0.6723 - val_categorical_accuracy: 0.6053 - val_loss: 0.9914\n",
      "Epoch 53/500\n",
      "\u001b[1m10/10\u001b[0m \u001b[32m━━━━━━━━━━━━━━━━━━━━\u001b[0m\u001b[37m\u001b[0m \u001b[1m0s\u001b[0m 28ms/step - categorical_accuracy: 0.8489 - loss: 0.5301 - val_categorical_accuracy: 0.5263 - val_loss: 0.9722\n",
      "Epoch 54/500\n",
      "\u001b[1m10/10\u001b[0m \u001b[32m━━━━━━━━━━━━━━━━━━━━\u001b[0m\u001b[37m\u001b[0m \u001b[1m0s\u001b[0m 29ms/step - categorical_accuracy: 0.7606 - loss: 0.6225 - val_categorical_accuracy: 0.7895 - val_loss: 0.7883\n",
      "Epoch 55/500\n",
      "\u001b[1m10/10\u001b[0m \u001b[32m━━━━━━━━━━━━━━━━━━━━\u001b[0m\u001b[37m\u001b[0m \u001b[1m0s\u001b[0m 29ms/step - categorical_accuracy: 0.8191 - loss: 0.6032 - val_categorical_accuracy: 0.7632 - val_loss: 0.7067\n",
      "Epoch 56/500\n",
      "\u001b[1m10/10\u001b[0m \u001b[32m━━━━━━━━━━━━━━━━━━━━\u001b[0m\u001b[37m\u001b[0m \u001b[1m0s\u001b[0m 29ms/step - categorical_accuracy: 0.8480 - loss: 0.5957 - val_categorical_accuracy: 0.8158 - val_loss: 0.7021\n",
      "Epoch 57/500\n",
      "\u001b[1m10/10\u001b[0m \u001b[32m━━━━━━━━━━━━━━━━━━━━\u001b[0m\u001b[37m\u001b[0m \u001b[1m0s\u001b[0m 28ms/step - categorical_accuracy: 0.7935 - loss: 0.5932 - val_categorical_accuracy: 0.7105 - val_loss: 0.7658\n",
      "Epoch 58/500\n",
      "\u001b[1m10/10\u001b[0m \u001b[32m━━━━━━━━━━━━━━━━━━━━\u001b[0m\u001b[37m\u001b[0m \u001b[1m0s\u001b[0m 29ms/step - categorical_accuracy: 0.7956 - loss: 0.6202 - val_categorical_accuracy: 0.6579 - val_loss: 0.9247\n",
      "Epoch 59/500\n",
      "\u001b[1m10/10\u001b[0m \u001b[32m━━━━━━━━━━━━━━━━━━━━\u001b[0m\u001b[37m\u001b[0m \u001b[1m0s\u001b[0m 29ms/step - categorical_accuracy: 0.8418 - loss: 0.5453 - val_categorical_accuracy: 0.6316 - val_loss: 0.9808\n",
      "Epoch 60/500\n",
      "\u001b[1m10/10\u001b[0m \u001b[32m━━━━━━━━━━━━━━━━━━━━\u001b[0m\u001b[37m\u001b[0m \u001b[1m0s\u001b[0m 28ms/step - categorical_accuracy: 0.7349 - loss: 0.6484 - val_categorical_accuracy: 0.6053 - val_loss: 0.9991\n",
      "Epoch 61/500\n",
      "\u001b[1m10/10\u001b[0m \u001b[32m━━━━━━━━━━━━━━━━━━━━\u001b[0m\u001b[37m\u001b[0m \u001b[1m0s\u001b[0m 29ms/step - categorical_accuracy: 0.8655 - loss: 0.5763 - val_categorical_accuracy: 0.6316 - val_loss: 1.1130\n",
      "Epoch 62/500\n",
      "\u001b[1m10/10\u001b[0m \u001b[32m━━━━━━━━━━━━━━━━━━━━\u001b[0m\u001b[37m\u001b[0m \u001b[1m0s\u001b[0m 28ms/step - categorical_accuracy: 0.8483 - loss: 0.5266 - val_categorical_accuracy: 0.5263 - val_loss: 1.0965\n",
      "Epoch 63/500\n",
      "\u001b[1m10/10\u001b[0m \u001b[32m━━━━━━━━━━━━━━━━━━━━\u001b[0m\u001b[37m\u001b[0m \u001b[1m0s\u001b[0m 29ms/step - categorical_accuracy: 0.8593 - loss: 0.5213 - val_categorical_accuracy: 0.5000 - val_loss: 1.4842\n",
      "Epoch 64/500\n",
      "\u001b[1m10/10\u001b[0m \u001b[32m━━━━━━━━━━━━━━━━━━━━\u001b[0m\u001b[37m\u001b[0m \u001b[1m0s\u001b[0m 28ms/step - categorical_accuracy: 0.8284 - loss: 0.6143 - val_categorical_accuracy: 0.5000 - val_loss: 1.4622\n",
      "Epoch 65/500\n",
      "\u001b[1m10/10\u001b[0m \u001b[32m━━━━━━━━━━━━━━━━━━━━\u001b[0m\u001b[37m\u001b[0m \u001b[1m0s\u001b[0m 28ms/step - categorical_accuracy: 0.8444 - loss: 0.5545 - val_categorical_accuracy: 0.5263 - val_loss: 1.3947\n",
      "Epoch 66/500\n",
      "\u001b[1m10/10\u001b[0m \u001b[32m━━━━━━━━━━━━━━━━━━━━\u001b[0m\u001b[37m\u001b[0m \u001b[1m0s\u001b[0m 29ms/step - categorical_accuracy: 0.8112 - loss: 0.5667 - val_categorical_accuracy: 0.6842 - val_loss: 0.8521\n",
      "Epoch 67/500\n",
      "\u001b[1m10/10\u001b[0m \u001b[32m━━━━━━━━━━━━━━━━━━━━\u001b[0m\u001b[37m\u001b[0m \u001b[1m0s\u001b[0m 29ms/step - categorical_accuracy: 0.8589 - loss: 0.5282 - val_categorical_accuracy: 0.8684 - val_loss: 0.6235\n",
      "Epoch 68/500\n",
      "\u001b[1m10/10\u001b[0m \u001b[32m━━━━━━━━━━━━━━━━━━━━\u001b[0m\u001b[37m\u001b[0m \u001b[1m0s\u001b[0m 28ms/step - categorical_accuracy: 0.8913 - loss: 0.4769 - val_categorical_accuracy: 0.8158 - val_loss: 0.6738\n",
      "Epoch 69/500\n",
      "\u001b[1m10/10\u001b[0m \u001b[32m━━━━━━━━━━━━━━━━━━━━\u001b[0m\u001b[37m\u001b[0m \u001b[1m0s\u001b[0m 28ms/step - categorical_accuracy: 0.8654 - loss: 0.5415 - val_categorical_accuracy: 0.6579 - val_loss: 0.8689\n",
      "Epoch 70/500\n",
      "\u001b[1m10/10\u001b[0m \u001b[32m━━━━━━━━━━━━━━━━━━━━\u001b[0m\u001b[37m\u001b[0m \u001b[1m0s\u001b[0m 32ms/step - categorical_accuracy: 0.8704 - loss: 0.4805 - val_categorical_accuracy: 0.8421 - val_loss: 0.6544\n",
      "Epoch 71/500\n",
      "\u001b[1m10/10\u001b[0m \u001b[32m━━━━━━━━━━━━━━━━━━━━\u001b[0m\u001b[37m\u001b[0m \u001b[1m0s\u001b[0m 28ms/step - categorical_accuracy: 0.7724 - loss: 0.6334 - val_categorical_accuracy: 0.6316 - val_loss: 0.9280\n",
      "Epoch 72/500\n",
      "\u001b[1m10/10\u001b[0m \u001b[32m━━━━━━━━━━━━━━━━━━━━\u001b[0m\u001b[37m\u001b[0m \u001b[1m0s\u001b[0m 29ms/step - categorical_accuracy: 0.7855 - loss: 0.5687 - val_categorical_accuracy: 0.7105 - val_loss: 0.7502\n",
      "Epoch 73/500\n",
      "\u001b[1m10/10\u001b[0m \u001b[32m━━━━━━━━━━━━━━━━━━━━\u001b[0m\u001b[37m\u001b[0m \u001b[1m0s\u001b[0m 28ms/step - categorical_accuracy: 0.8176 - loss: 0.5327 - val_categorical_accuracy: 0.6842 - val_loss: 0.7998\n",
      "Epoch 74/500\n",
      "\u001b[1m10/10\u001b[0m \u001b[32m━━━━━━━━━━━━━━━━━━━━\u001b[0m\u001b[37m\u001b[0m \u001b[1m0s\u001b[0m 29ms/step - categorical_accuracy: 0.8445 - loss: 0.5473 - val_categorical_accuracy: 0.6579 - val_loss: 1.1437\n",
      "Epoch 75/500\n",
      "\u001b[1m10/10\u001b[0m \u001b[32m━━━━━━━━━━━━━━━━━━━━\u001b[0m\u001b[37m\u001b[0m \u001b[1m0s\u001b[0m 28ms/step - categorical_accuracy: 0.8780 - loss: 0.4740 - val_categorical_accuracy: 0.5526 - val_loss: 1.1418\n",
      "Epoch 76/500\n",
      "\u001b[1m10/10\u001b[0m \u001b[32m━━━━━━━━━━━━━━━━━━━━\u001b[0m\u001b[37m\u001b[0m \u001b[1m0s\u001b[0m 28ms/step - categorical_accuracy: 0.8744 - loss: 0.4824 - val_categorical_accuracy: 0.7632 - val_loss: 0.7280\n",
      "Epoch 77/500\n",
      "\u001b[1m10/10\u001b[0m \u001b[32m━━━━━━━━━━━━━━━━━━━━\u001b[0m\u001b[37m\u001b[0m \u001b[1m0s\u001b[0m 29ms/step - categorical_accuracy: 0.8651 - loss: 0.4281 - val_categorical_accuracy: 0.6579 - val_loss: 0.8546\n",
      "Epoch 78/500\n",
      "\u001b[1m10/10\u001b[0m \u001b[32m━━━━━━━━━━━━━━━━━━━━\u001b[0m\u001b[37m\u001b[0m \u001b[1m0s\u001b[0m 29ms/step - categorical_accuracy: 0.9150 - loss: 0.4175 - val_categorical_accuracy: 0.5789 - val_loss: 1.2061\n",
      "Epoch 79/500\n",
      "\u001b[1m10/10\u001b[0m \u001b[32m━━━━━━━━━━━━━━━━━━━━\u001b[0m\u001b[37m\u001b[0m \u001b[1m0s\u001b[0m 29ms/step - categorical_accuracy: 0.8659 - loss: 0.5550 - val_categorical_accuracy: 0.7368 - val_loss: 0.9997\n",
      "Epoch 80/500\n",
      "\u001b[1m10/10\u001b[0m \u001b[32m━━━━━━━━━━━━━━━━━━━━\u001b[0m\u001b[37m\u001b[0m \u001b[1m0s\u001b[0m 29ms/step - categorical_accuracy: 0.8760 - loss: 0.4358 - val_categorical_accuracy: 0.6316 - val_loss: 1.0703\n",
      "Epoch 81/500\n",
      "\u001b[1m10/10\u001b[0m \u001b[32m━━━━━━━━━━━━━━━━━━━━\u001b[0m\u001b[37m\u001b[0m \u001b[1m0s\u001b[0m 29ms/step - categorical_accuracy: 0.8680 - loss: 0.4986 - val_categorical_accuracy: 0.5789 - val_loss: 0.9688\n",
      "Epoch 82/500\n",
      "\u001b[1m10/10\u001b[0m \u001b[32m━━━━━━━━━━━━━━━━━━━━\u001b[0m\u001b[37m\u001b[0m \u001b[1m0s\u001b[0m 29ms/step - categorical_accuracy: 0.8924 - loss: 0.4470 - val_categorical_accuracy: 0.7105 - val_loss: 0.7683\n",
      "Epoch 83/500\n",
      "\u001b[1m10/10\u001b[0m \u001b[32m━━━━━━━━━━━━━━━━━━━━\u001b[0m\u001b[37m\u001b[0m \u001b[1m0s\u001b[0m 29ms/step - categorical_accuracy: 0.8748 - loss: 0.4308 - val_categorical_accuracy: 0.7368 - val_loss: 0.6607\n",
      "Epoch 84/500\n",
      "\u001b[1m10/10\u001b[0m \u001b[32m━━━━━━━━━━━━━━━━━━━━\u001b[0m\u001b[37m\u001b[0m \u001b[1m0s\u001b[0m 28ms/step - categorical_accuracy: 0.8633 - loss: 0.4857 - val_categorical_accuracy: 0.6579 - val_loss: 1.0948\n",
      "Epoch 85/500\n",
      "\u001b[1m10/10\u001b[0m \u001b[32m━━━━━━━━━━━━━━━━━━━━\u001b[0m\u001b[37m\u001b[0m \u001b[1m0s\u001b[0m 29ms/step - categorical_accuracy: 0.8602 - loss: 0.4978 - val_categorical_accuracy: 0.7895 - val_loss: 0.6038\n",
      "Epoch 86/500\n",
      "\u001b[1m10/10\u001b[0m \u001b[32m━━━━━━━━━━━━━━━━━━━━\u001b[0m\u001b[37m\u001b[0m \u001b[1m0s\u001b[0m 28ms/step - categorical_accuracy: 0.9129 - loss: 0.3870 - val_categorical_accuracy: 0.7632 - val_loss: 0.6243\n",
      "Epoch 87/500\n",
      "\u001b[1m10/10\u001b[0m \u001b[32m━━━━━━━━━━━━━━━━━━━━\u001b[0m\u001b[37m\u001b[0m \u001b[1m0s\u001b[0m 28ms/step - categorical_accuracy: 0.8591 - loss: 0.4967 - val_categorical_accuracy: 0.7632 - val_loss: 0.8015\n",
      "Epoch 88/500\n",
      "\u001b[1m10/10\u001b[0m \u001b[32m━━━━━━━━━━━━━━━━━━━━\u001b[0m\u001b[37m\u001b[0m \u001b[1m0s\u001b[0m 28ms/step - categorical_accuracy: 0.8953 - loss: 0.4129 - val_categorical_accuracy: 0.7105 - val_loss: 0.7731\n",
      "Epoch 89/500\n",
      "\u001b[1m10/10\u001b[0m \u001b[32m━━━━━━━━━━━━━━━━━━━━\u001b[0m\u001b[37m\u001b[0m \u001b[1m0s\u001b[0m 33ms/step - categorical_accuracy: 0.8947 - loss: 0.4235 - val_categorical_accuracy: 0.8684 - val_loss: 0.5478\n",
      "Epoch 90/500\n",
      "\u001b[1m10/10\u001b[0m \u001b[32m━━━━━━━━━━━━━━━━━━━━\u001b[0m\u001b[37m\u001b[0m \u001b[1m0s\u001b[0m 29ms/step - categorical_accuracy: 0.8821 - loss: 0.4433 - val_categorical_accuracy: 0.7368 - val_loss: 0.6561\n",
      "Epoch 91/500\n",
      "\u001b[1m10/10\u001b[0m \u001b[32m━━━━━━━━━━━━━━━━━━━━\u001b[0m\u001b[37m\u001b[0m \u001b[1m0s\u001b[0m 29ms/step - categorical_accuracy: 0.8749 - loss: 0.4099 - val_categorical_accuracy: 0.8158 - val_loss: 0.5429\n",
      "Epoch 92/500\n",
      "\u001b[1m10/10\u001b[0m \u001b[32m━━━━━━━━━━━━━━━━━━━━\u001b[0m\u001b[37m\u001b[0m \u001b[1m0s\u001b[0m 28ms/step - categorical_accuracy: 0.9237 - loss: 0.3260 - val_categorical_accuracy: 0.8684 - val_loss: 0.5573\n",
      "Epoch 93/500\n",
      "\u001b[1m10/10\u001b[0m \u001b[32m━━━━━━━━━━━━━━━━━━━━\u001b[0m\u001b[37m\u001b[0m \u001b[1m0s\u001b[0m 28ms/step - categorical_accuracy: 0.9074 - loss: 0.4155 - val_categorical_accuracy: 0.8421 - val_loss: 0.5057\n",
      "Epoch 94/500\n",
      "\u001b[1m10/10\u001b[0m \u001b[32m━━━━━━━━━━━━━━━━━━━━\u001b[0m\u001b[37m\u001b[0m \u001b[1m0s\u001b[0m 29ms/step - categorical_accuracy: 0.9095 - loss: 0.4021 - val_categorical_accuracy: 0.7632 - val_loss: 0.7386\n",
      "Epoch 95/500\n",
      "\u001b[1m10/10\u001b[0m \u001b[32m━━━━━━━━━━━━━━━━━━━━\u001b[0m\u001b[37m\u001b[0m \u001b[1m0s\u001b[0m 28ms/step - categorical_accuracy: 0.8864 - loss: 0.4243 - val_categorical_accuracy: 0.7368 - val_loss: 0.7306\n",
      "Epoch 96/500\n",
      "\u001b[1m10/10\u001b[0m \u001b[32m━━━━━━━━━━━━━━━━━━━━\u001b[0m\u001b[37m\u001b[0m \u001b[1m0s\u001b[0m 28ms/step - categorical_accuracy: 0.9369 - loss: 0.3490 - val_categorical_accuracy: 0.7632 - val_loss: 0.5824\n",
      "Epoch 97/500\n",
      "\u001b[1m10/10\u001b[0m \u001b[32m━━━━━━━━━━━━━━━━━━━━\u001b[0m\u001b[37m\u001b[0m \u001b[1m0s\u001b[0m 28ms/step - categorical_accuracy: 0.8683 - loss: 0.5025 - val_categorical_accuracy: 0.7632 - val_loss: 0.7748\n",
      "Epoch 98/500\n",
      "\u001b[1m10/10\u001b[0m \u001b[32m━━━━━━━━━━━━━━━━━━━━\u001b[0m\u001b[37m\u001b[0m \u001b[1m0s\u001b[0m 28ms/step - categorical_accuracy: 0.9408 - loss: 0.3537 - val_categorical_accuracy: 0.7368 - val_loss: 0.8000\n",
      "Epoch 99/500\n",
      "\u001b[1m10/10\u001b[0m \u001b[32m━━━━━━━━━━━━━━━━━━━━\u001b[0m\u001b[37m\u001b[0m \u001b[1m0s\u001b[0m 28ms/step - categorical_accuracy: 0.8696 - loss: 0.3941 - val_categorical_accuracy: 0.6579 - val_loss: 0.8248\n",
      "Epoch 100/500\n",
      "\u001b[1m10/10\u001b[0m \u001b[32m━━━━━━━━━━━━━━━━━━━━\u001b[0m\u001b[37m\u001b[0m \u001b[1m0s\u001b[0m 29ms/step - categorical_accuracy: 0.9241 - loss: 0.3700 - val_categorical_accuracy: 0.8421 - val_loss: 0.4419\n",
      "Epoch 101/500\n",
      "\u001b[1m10/10\u001b[0m \u001b[32m━━━━━━━━━━━━━━━━━━━━\u001b[0m\u001b[37m\u001b[0m \u001b[1m0s\u001b[0m 29ms/step - categorical_accuracy: 0.9098 - loss: 0.3628 - val_categorical_accuracy: 0.7895 - val_loss: 0.4903\n",
      "Epoch 102/500\n",
      "\u001b[1m10/10\u001b[0m \u001b[32m━━━━━━━━━━━━━━━━━━━━\u001b[0m\u001b[37m\u001b[0m \u001b[1m0s\u001b[0m 29ms/step - categorical_accuracy: 0.9410 - loss: 0.3191 - val_categorical_accuracy: 0.8421 - val_loss: 0.4929\n",
      "Epoch 103/500\n",
      "\u001b[1m10/10\u001b[0m \u001b[32m━━━━━━━━━━━━━━━━━━━━\u001b[0m\u001b[37m\u001b[0m \u001b[1m0s\u001b[0m 28ms/step - categorical_accuracy: 0.8728 - loss: 0.3856 - val_categorical_accuracy: 0.7632 - val_loss: 0.6101\n",
      "Epoch 104/500\n",
      "\u001b[1m10/10\u001b[0m \u001b[32m━━━━━━━━━━━━━━━━━━━━\u001b[0m\u001b[37m\u001b[0m \u001b[1m0s\u001b[0m 29ms/step - categorical_accuracy: 0.9074 - loss: 0.3505 - val_categorical_accuracy: 0.8684 - val_loss: 0.4357\n",
      "Epoch 105/500\n",
      "\u001b[1m10/10\u001b[0m \u001b[32m━━━━━━━━━━━━━━━━━━━━\u001b[0m\u001b[37m\u001b[0m \u001b[1m0s\u001b[0m 29ms/step - categorical_accuracy: 0.8997 - loss: 0.4074 - val_categorical_accuracy: 0.8421 - val_loss: 0.5566\n",
      "Epoch 106/500\n",
      "\u001b[1m10/10\u001b[0m \u001b[32m━━━━━━━━━━━━━━━━━━━━\u001b[0m\u001b[37m\u001b[0m \u001b[1m0s\u001b[0m 33ms/step - categorical_accuracy: 0.9070 - loss: 0.3897 - val_categorical_accuracy: 0.6316 - val_loss: 0.7237\n",
      "Epoch 107/500\n",
      "\u001b[1m10/10\u001b[0m \u001b[32m━━━━━━━━━━━━━━━━━━━━\u001b[0m\u001b[37m\u001b[0m \u001b[1m0s\u001b[0m 29ms/step - categorical_accuracy: 0.9202 - loss: 0.3830 - val_categorical_accuracy: 0.7368 - val_loss: 0.7059\n",
      "Epoch 108/500\n",
      "\u001b[1m10/10\u001b[0m \u001b[32m━━━━━━━━━━━━━━━━━━━━\u001b[0m\u001b[37m\u001b[0m \u001b[1m0s\u001b[0m 28ms/step - categorical_accuracy: 0.8840 - loss: 0.3953 - val_categorical_accuracy: 0.8684 - val_loss: 0.3843\n",
      "Epoch 109/500\n",
      "\u001b[1m10/10\u001b[0m \u001b[32m━━━━━━━━━━━━━━━━━━━━\u001b[0m\u001b[37m\u001b[0m \u001b[1m0s\u001b[0m 28ms/step - categorical_accuracy: 0.8070 - loss: 0.5298 - val_categorical_accuracy: 0.8158 - val_loss: 0.4785\n",
      "Epoch 110/500\n",
      "\u001b[1m10/10\u001b[0m \u001b[32m━━━━━━━━━━━━━━━━━━━━\u001b[0m\u001b[37m\u001b[0m \u001b[1m0s\u001b[0m 28ms/step - categorical_accuracy: 0.9386 - loss: 0.3244 - val_categorical_accuracy: 0.7895 - val_loss: 0.5556\n",
      "Epoch 111/500\n",
      "\u001b[1m10/10\u001b[0m \u001b[32m━━━━━━━━━━━━━━━━━━━━\u001b[0m\u001b[37m\u001b[0m \u001b[1m0s\u001b[0m 28ms/step - categorical_accuracy: 0.9333 - loss: 0.2837 - val_categorical_accuracy: 0.8684 - val_loss: 0.5706\n",
      "Epoch 112/500\n",
      "\u001b[1m10/10\u001b[0m \u001b[32m━━━━━━━━━━━━━━━━━━━━\u001b[0m\u001b[37m\u001b[0m \u001b[1m0s\u001b[0m 28ms/step - categorical_accuracy: 0.9111 - loss: 0.3329 - val_categorical_accuracy: 0.8421 - val_loss: 0.4781\n",
      "Epoch 113/500\n",
      "\u001b[1m10/10\u001b[0m \u001b[32m━━━━━━━━━━━━━━━━━━━━\u001b[0m\u001b[37m\u001b[0m \u001b[1m0s\u001b[0m 28ms/step - categorical_accuracy: 0.8949 - loss: 0.3263 - val_categorical_accuracy: 0.8158 - val_loss: 0.6101\n",
      "Epoch 114/500\n",
      "\u001b[1m10/10\u001b[0m \u001b[32m━━━━━━━━━━━━━━━━━━━━\u001b[0m\u001b[37m\u001b[0m \u001b[1m0s\u001b[0m 28ms/step - categorical_accuracy: 0.8850 - loss: 0.3295 - val_categorical_accuracy: 0.7632 - val_loss: 0.5401\n",
      "Epoch 115/500\n",
      "\u001b[1m10/10\u001b[0m \u001b[32m━━━━━━━━━━━━━━━━━━━━\u001b[0m\u001b[37m\u001b[0m \u001b[1m0s\u001b[0m 29ms/step - categorical_accuracy: 0.8655 - loss: 0.4088 - val_categorical_accuracy: 0.8684 - val_loss: 0.5091\n",
      "Epoch 116/500\n",
      "\u001b[1m10/10\u001b[0m \u001b[32m━━━━━━━━━━━━━━━━━━━━\u001b[0m\u001b[37m\u001b[0m \u001b[1m0s\u001b[0m 27ms/step - categorical_accuracy: 0.9200 - loss: 0.3589 - val_categorical_accuracy: 0.8684 - val_loss: 0.5362\n",
      "Epoch 117/500\n",
      "\u001b[1m10/10\u001b[0m \u001b[32m━━━━━━━━━━━━━━━━━━━━\u001b[0m\u001b[37m\u001b[0m \u001b[1m0s\u001b[0m 29ms/step - categorical_accuracy: 0.9643 - loss: 0.3013 - val_categorical_accuracy: 0.8684 - val_loss: 0.5417\n",
      "Epoch 118/500\n",
      "\u001b[1m10/10\u001b[0m \u001b[32m━━━━━━━━━━━━━━━━━━━━\u001b[0m\u001b[37m\u001b[0m \u001b[1m0s\u001b[0m 28ms/step - categorical_accuracy: 0.9667 - loss: 0.2906 - val_categorical_accuracy: 0.7895 - val_loss: 0.5823\n",
      "Epoch 119/500\n",
      "\u001b[1m10/10\u001b[0m \u001b[32m━━━━━━━━━━━━━━━━━━━━\u001b[0m\u001b[37m\u001b[0m \u001b[1m0s\u001b[0m 29ms/step - categorical_accuracy: 0.9169 - loss: 0.3718 - val_categorical_accuracy: 0.8421 - val_loss: 0.4781\n",
      "Epoch 120/500\n",
      "\u001b[1m10/10\u001b[0m \u001b[32m━━━━━━━━━━━━━━━━━━━━\u001b[0m\u001b[37m\u001b[0m \u001b[1m0s\u001b[0m 29ms/step - categorical_accuracy: 0.9458 - loss: 0.2823 - val_categorical_accuracy: 0.7632 - val_loss: 0.6375\n",
      "Epoch 121/500\n",
      "\u001b[1m10/10\u001b[0m \u001b[32m━━━━━━━━━━━━━━━━━━━━\u001b[0m\u001b[37m\u001b[0m \u001b[1m0s\u001b[0m 29ms/step - categorical_accuracy: 0.9418 - loss: 0.2837 - val_categorical_accuracy: 0.7632 - val_loss: 0.6158\n",
      "Epoch 122/500\n",
      "\u001b[1m10/10\u001b[0m \u001b[32m━━━━━━━━━━━━━━━━━━━━\u001b[0m\u001b[37m\u001b[0m \u001b[1m0s\u001b[0m 32ms/step - categorical_accuracy: 0.8885 - loss: 0.3920 - val_categorical_accuracy: 0.6842 - val_loss: 0.7150\n",
      "Epoch 123/500\n",
      "\u001b[1m10/10\u001b[0m \u001b[32m━━━━━━━━━━━━━━━━━━━━\u001b[0m\u001b[37m\u001b[0m \u001b[1m0s\u001b[0m 33ms/step - categorical_accuracy: 0.9196 - loss: 0.3285 - val_categorical_accuracy: 0.5263 - val_loss: 1.2020\n",
      "Epoch 124/500\n",
      "\u001b[1m10/10\u001b[0m \u001b[32m━━━━━━━━━━━━━━━━━━━━\u001b[0m\u001b[37m\u001b[0m \u001b[1m0s\u001b[0m 28ms/step - categorical_accuracy: 0.9528 - loss: 0.2833 - val_categorical_accuracy: 0.4211 - val_loss: 2.2214\n",
      "Epoch 125/500\n",
      "\u001b[1m10/10\u001b[0m \u001b[32m━━━━━━━━━━━━━━━━━━━━\u001b[0m\u001b[37m\u001b[0m \u001b[1m0s\u001b[0m 28ms/step - categorical_accuracy: 0.8999 - loss: 0.3927 - val_categorical_accuracy: 0.6842 - val_loss: 0.9994\n",
      "Epoch 126/500\n",
      "\u001b[1m10/10\u001b[0m \u001b[32m━━━━━━━━━━━━━━━━━━━━\u001b[0m\u001b[37m\u001b[0m \u001b[1m0s\u001b[0m 28ms/step - categorical_accuracy: 0.9207 - loss: 0.3461 - val_categorical_accuracy: 0.7895 - val_loss: 0.6552\n",
      "Epoch 127/500\n",
      "\u001b[1m10/10\u001b[0m \u001b[32m━━━━━━━━━━━━━━━━━━━━\u001b[0m\u001b[37m\u001b[0m \u001b[1m0s\u001b[0m 28ms/step - categorical_accuracy: 0.9306 - loss: 0.2789 - val_categorical_accuracy: 0.8158 - val_loss: 0.5535\n",
      "Epoch 128/500\n",
      "\u001b[1m10/10\u001b[0m \u001b[32m━━━━━━━━━━━━━━━━━━━━\u001b[0m\u001b[37m\u001b[0m \u001b[1m0s\u001b[0m 29ms/step - categorical_accuracy: 0.9183 - loss: 0.3201 - val_categorical_accuracy: 0.8421 - val_loss: 0.5477\n"
     ]
    }
   ],
   "source": [
    "opt = Adam(learning_rate=0.00005)  # más alto, ideal para datos pocos\n",
    "model.compile(optimizer=opt, loss='categorical_crossentropy', metrics=['categorical_accuracy'])\n",
    "\n",
    "early_stop = EarlyStopping(monitor='val_loss', patience=20, restore_best_weights=True)\n",
    "\n",
    "history = model.fit(X_train, y_train, epochs=500, batch_size=16, \n",
    "                    validation_split=0.2, callbacks=[early_stop])\n"
   ]
  },
  {
   "cell_type": "code",
   "execution_count": 112,
   "metadata": {
    "id": "q_tv19Edjvj_",
    "outputId": "69fbe1c8-32dc-4b4e-daea-d685d438b1a5"
   },
   "outputs": [
    {
     "data": {
      "text/html": [
       "<pre style=\"white-space:pre;overflow-x:auto;line-height:normal;font-family:Menlo,'DejaVu Sans Mono',consolas,'Courier New',monospace\"><span style=\"font-weight: bold\">Model: \"sequential_9\"</span>\n",
       "</pre>\n"
      ],
      "text/plain": [
       "\u001b[1mModel: \"sequential_9\"\u001b[0m\n"
      ]
     },
     "metadata": {},
     "output_type": "display_data"
    },
    {
     "data": {
      "text/html": [
       "<pre style=\"white-space:pre;overflow-x:auto;line-height:normal;font-family:Menlo,'DejaVu Sans Mono',consolas,'Courier New',monospace\">┏━━━━━━━━━━━━━━━━━━━━━━━━━━━━━━━━━┳━━━━━━━━━━━━━━━━━━━━━━━━┳━━━━━━━━━━━━━━━┓\n",
       "┃<span style=\"font-weight: bold\"> Layer (type)                    </span>┃<span style=\"font-weight: bold\"> Output Shape           </span>┃<span style=\"font-weight: bold\">       Param # </span>┃\n",
       "┡━━━━━━━━━━━━━━━━━━━━━━━━━━━━━━━━━╇━━━━━━━━━━━━━━━━━━━━━━━━╇━━━━━━━━━━━━━━━┩\n",
       "│ lstm_18 (<span style=\"color: #0087ff; text-decoration-color: #0087ff\">LSTM</span>)                  │ (<span style=\"color: #00d7ff; text-decoration-color: #00d7ff\">None</span>, <span style=\"color: #00af00; text-decoration-color: #00af00\">30</span>, <span style=\"color: #00af00; text-decoration-color: #00af00\">64</span>)         │       <span style=\"color: #00af00; text-decoration-color: #00af00\">442,112</span> │\n",
       "├─────────────────────────────────┼────────────────────────┼───────────────┤\n",
       "│ batch_normalization_18          │ (<span style=\"color: #00d7ff; text-decoration-color: #00d7ff\">None</span>, <span style=\"color: #00af00; text-decoration-color: #00af00\">30</span>, <span style=\"color: #00af00; text-decoration-color: #00af00\">64</span>)         │           <span style=\"color: #00af00; text-decoration-color: #00af00\">256</span> │\n",
       "│ (<span style=\"color: #0087ff; text-decoration-color: #0087ff\">BatchNormalization</span>)            │                        │               │\n",
       "├─────────────────────────────────┼────────────────────────┼───────────────┤\n",
       "│ dropout_27 (<span style=\"color: #0087ff; text-decoration-color: #0087ff\">Dropout</span>)            │ (<span style=\"color: #00d7ff; text-decoration-color: #00d7ff\">None</span>, <span style=\"color: #00af00; text-decoration-color: #00af00\">30</span>, <span style=\"color: #00af00; text-decoration-color: #00af00\">64</span>)         │             <span style=\"color: #00af00; text-decoration-color: #00af00\">0</span> │\n",
       "├─────────────────────────────────┼────────────────────────┼───────────────┤\n",
       "│ lstm_19 (<span style=\"color: #0087ff; text-decoration-color: #0087ff\">LSTM</span>)                  │ (<span style=\"color: #00d7ff; text-decoration-color: #00d7ff\">None</span>, <span style=\"color: #00af00; text-decoration-color: #00af00\">32</span>)             │        <span style=\"color: #00af00; text-decoration-color: #00af00\">12,416</span> │\n",
       "├─────────────────────────────────┼────────────────────────┼───────────────┤\n",
       "│ batch_normalization_19          │ (<span style=\"color: #00d7ff; text-decoration-color: #00d7ff\">None</span>, <span style=\"color: #00af00; text-decoration-color: #00af00\">32</span>)             │           <span style=\"color: #00af00; text-decoration-color: #00af00\">128</span> │\n",
       "│ (<span style=\"color: #0087ff; text-decoration-color: #0087ff\">BatchNormalization</span>)            │                        │               │\n",
       "├─────────────────────────────────┼────────────────────────┼───────────────┤\n",
       "│ dropout_28 (<span style=\"color: #0087ff; text-decoration-color: #0087ff\">Dropout</span>)            │ (<span style=\"color: #00d7ff; text-decoration-color: #00d7ff\">None</span>, <span style=\"color: #00af00; text-decoration-color: #00af00\">32</span>)             │             <span style=\"color: #00af00; text-decoration-color: #00af00\">0</span> │\n",
       "├─────────────────────────────────┼────────────────────────┼───────────────┤\n",
       "│ dense_18 (<span style=\"color: #0087ff; text-decoration-color: #0087ff\">Dense</span>)                │ (<span style=\"color: #00d7ff; text-decoration-color: #00d7ff\">None</span>, <span style=\"color: #00af00; text-decoration-color: #00af00\">32</span>)             │         <span style=\"color: #00af00; text-decoration-color: #00af00\">1,056</span> │\n",
       "├─────────────────────────────────┼────────────────────────┼───────────────┤\n",
       "│ dropout_29 (<span style=\"color: #0087ff; text-decoration-color: #0087ff\">Dropout</span>)            │ (<span style=\"color: #00d7ff; text-decoration-color: #00d7ff\">None</span>, <span style=\"color: #00af00; text-decoration-color: #00af00\">32</span>)             │             <span style=\"color: #00af00; text-decoration-color: #00af00\">0</span> │\n",
       "├─────────────────────────────────┼────────────────────────┼───────────────┤\n",
       "│ dense_19 (<span style=\"color: #0087ff; text-decoration-color: #0087ff\">Dense</span>)                │ (<span style=\"color: #00d7ff; text-decoration-color: #00d7ff\">None</span>, <span style=\"color: #00af00; text-decoration-color: #00af00\">5</span>)              │           <span style=\"color: #00af00; text-decoration-color: #00af00\">165</span> │\n",
       "└─────────────────────────────────┴────────────────────────┴───────────────┘\n",
       "</pre>\n"
      ],
      "text/plain": [
       "┏━━━━━━━━━━━━━━━━━━━━━━━━━━━━━━━━━┳━━━━━━━━━━━━━━━━━━━━━━━━┳━━━━━━━━━━━━━━━┓\n",
       "┃\u001b[1m \u001b[0m\u001b[1mLayer (type)                   \u001b[0m\u001b[1m \u001b[0m┃\u001b[1m \u001b[0m\u001b[1mOutput Shape          \u001b[0m\u001b[1m \u001b[0m┃\u001b[1m \u001b[0m\u001b[1m      Param #\u001b[0m\u001b[1m \u001b[0m┃\n",
       "┡━━━━━━━━━━━━━━━━━━━━━━━━━━━━━━━━━╇━━━━━━━━━━━━━━━━━━━━━━━━╇━━━━━━━━━━━━━━━┩\n",
       "│ lstm_18 (\u001b[38;5;33mLSTM\u001b[0m)                  │ (\u001b[38;5;45mNone\u001b[0m, \u001b[38;5;34m30\u001b[0m, \u001b[38;5;34m64\u001b[0m)         │       \u001b[38;5;34m442,112\u001b[0m │\n",
       "├─────────────────────────────────┼────────────────────────┼───────────────┤\n",
       "│ batch_normalization_18          │ (\u001b[38;5;45mNone\u001b[0m, \u001b[38;5;34m30\u001b[0m, \u001b[38;5;34m64\u001b[0m)         │           \u001b[38;5;34m256\u001b[0m │\n",
       "│ (\u001b[38;5;33mBatchNormalization\u001b[0m)            │                        │               │\n",
       "├─────────────────────────────────┼────────────────────────┼───────────────┤\n",
       "│ dropout_27 (\u001b[38;5;33mDropout\u001b[0m)            │ (\u001b[38;5;45mNone\u001b[0m, \u001b[38;5;34m30\u001b[0m, \u001b[38;5;34m64\u001b[0m)         │             \u001b[38;5;34m0\u001b[0m │\n",
       "├─────────────────────────────────┼────────────────────────┼───────────────┤\n",
       "│ lstm_19 (\u001b[38;5;33mLSTM\u001b[0m)                  │ (\u001b[38;5;45mNone\u001b[0m, \u001b[38;5;34m32\u001b[0m)             │        \u001b[38;5;34m12,416\u001b[0m │\n",
       "├─────────────────────────────────┼────────────────────────┼───────────────┤\n",
       "│ batch_normalization_19          │ (\u001b[38;5;45mNone\u001b[0m, \u001b[38;5;34m32\u001b[0m)             │           \u001b[38;5;34m128\u001b[0m │\n",
       "│ (\u001b[38;5;33mBatchNormalization\u001b[0m)            │                        │               │\n",
       "├─────────────────────────────────┼────────────────────────┼───────────────┤\n",
       "│ dropout_28 (\u001b[38;5;33mDropout\u001b[0m)            │ (\u001b[38;5;45mNone\u001b[0m, \u001b[38;5;34m32\u001b[0m)             │             \u001b[38;5;34m0\u001b[0m │\n",
       "├─────────────────────────────────┼────────────────────────┼───────────────┤\n",
       "│ dense_18 (\u001b[38;5;33mDense\u001b[0m)                │ (\u001b[38;5;45mNone\u001b[0m, \u001b[38;5;34m32\u001b[0m)             │         \u001b[38;5;34m1,056\u001b[0m │\n",
       "├─────────────────────────────────┼────────────────────────┼───────────────┤\n",
       "│ dropout_29 (\u001b[38;5;33mDropout\u001b[0m)            │ (\u001b[38;5;45mNone\u001b[0m, \u001b[38;5;34m32\u001b[0m)             │             \u001b[38;5;34m0\u001b[0m │\n",
       "├─────────────────────────────────┼────────────────────────┼───────────────┤\n",
       "│ dense_19 (\u001b[38;5;33mDense\u001b[0m)                │ (\u001b[38;5;45mNone\u001b[0m, \u001b[38;5;34m5\u001b[0m)              │           \u001b[38;5;34m165\u001b[0m │\n",
       "└─────────────────────────────────┴────────────────────────┴───────────────┘\n"
      ]
     },
     "metadata": {},
     "output_type": "display_data"
    },
    {
     "data": {
      "text/html": [
       "<pre style=\"white-space:pre;overflow-x:auto;line-height:normal;font-family:Menlo,'DejaVu Sans Mono',consolas,'Courier New',monospace\"><span style=\"font-weight: bold\"> Total params: </span><span style=\"color: #00af00; text-decoration-color: #00af00\">1,368,017</span> (5.22 MB)\n",
       "</pre>\n"
      ],
      "text/plain": [
       "\u001b[1m Total params: \u001b[0m\u001b[38;5;34m1,368,017\u001b[0m (5.22 MB)\n"
      ]
     },
     "metadata": {},
     "output_type": "display_data"
    },
    {
     "data": {
      "text/html": [
       "<pre style=\"white-space:pre;overflow-x:auto;line-height:normal;font-family:Menlo,'DejaVu Sans Mono',consolas,'Courier New',monospace\"><span style=\"font-weight: bold\"> Trainable params: </span><span style=\"color: #00af00; text-decoration-color: #00af00\">455,941</span> (1.74 MB)\n",
       "</pre>\n"
      ],
      "text/plain": [
       "\u001b[1m Trainable params: \u001b[0m\u001b[38;5;34m455,941\u001b[0m (1.74 MB)\n"
      ]
     },
     "metadata": {},
     "output_type": "display_data"
    },
    {
     "data": {
      "text/html": [
       "<pre style=\"white-space:pre;overflow-x:auto;line-height:normal;font-family:Menlo,'DejaVu Sans Mono',consolas,'Courier New',monospace\"><span style=\"font-weight: bold\"> Non-trainable params: </span><span style=\"color: #00af00; text-decoration-color: #00af00\">192</span> (768.00 B)\n",
       "</pre>\n"
      ],
      "text/plain": [
       "\u001b[1m Non-trainable params: \u001b[0m\u001b[38;5;34m192\u001b[0m (768.00 B)\n"
      ]
     },
     "metadata": {},
     "output_type": "display_data"
    },
    {
     "data": {
      "text/html": [
       "<pre style=\"white-space:pre;overflow-x:auto;line-height:normal;font-family:Menlo,'DejaVu Sans Mono',consolas,'Courier New',monospace\"><span style=\"font-weight: bold\"> Optimizer params: </span><span style=\"color: #00af00; text-decoration-color: #00af00\">911,884</span> (3.48 MB)\n",
       "</pre>\n"
      ],
      "text/plain": [
       "\u001b[1m Optimizer params: \u001b[0m\u001b[38;5;34m911,884\u001b[0m (3.48 MB)\n"
      ]
     },
     "metadata": {},
     "output_type": "display_data"
    }
   ],
   "source": [
    "model.summary()"
   ]
  },
  {
   "cell_type": "markdown",
   "metadata": {
    "id": "Y-bhKn-Ajvj_"
   },
   "source": [
    "8. Make Predictions\n"
   ]
  },
  {
   "cell_type": "code",
   "execution_count": 113,
   "metadata": {
    "id": "IcHPbDaZjvkA",
    "outputId": "50448b59-1de2-49ee-a576-cd3ae5e5f384"
   },
   "outputs": [
    {
     "name": "stdout",
     "output_type": "stream",
     "text": [
      "WARNING:tensorflow:5 out of the last 5 calls to <function TensorFlowTrainer.make_predict_function.<locals>.one_step_on_data_distributed at 0x000002A582F4EE60> triggered tf.function retracing. Tracing is expensive and the excessive number of tracings could be due to (1) creating @tf.function repeatedly in a loop, (2) passing tensors with different shapes, (3) passing Python objects instead of tensors. For (1), please define your @tf.function outside of the loop. For (2), @tf.function has reduce_retracing=True option that can avoid unnecessary retracing. For (3), please refer to https://www.tensorflow.org/guide/function#controlling_retracing and https://www.tensorflow.org/api_docs/python/tf/function for  more details.\n"
     ]
    },
    {
     "name": "stderr",
     "output_type": "stream",
     "text": [
      "WARNING:tensorflow:5 out of the last 5 calls to <function TensorFlowTrainer.make_predict_function.<locals>.one_step_on_data_distributed at 0x000002A582F4EE60> triggered tf.function retracing. Tracing is expensive and the excessive number of tracings could be due to (1) creating @tf.function repeatedly in a loop, (2) passing tensors with different shapes, (3) passing Python objects instead of tensors. For (1), please define your @tf.function outside of the loop. For (2), @tf.function has reduce_retracing=True option that can avoid unnecessary retracing. For (3), please refer to https://www.tensorflow.org/guide/function#controlling_retracing and https://www.tensorflow.org/api_docs/python/tf/function for  more details.\n"
     ]
    },
    {
     "name": "stdout",
     "output_type": "stream",
     "text": [
      "\u001b[1m1/1\u001b[0m \u001b[32m━━━━━━━━━━━━━━━━━━━━\u001b[0m\u001b[37m\u001b[0m \u001b[1m0s\u001b[0m 198ms/step\n"
     ]
    }
   ],
   "source": [
    "\n",
    "res = model.predict(X_test)"
   ]
  },
  {
   "cell_type": "code",
   "execution_count": 114,
   "metadata": {},
   "outputs": [
    {
     "name": "stdout",
     "output_type": "stream",
     "text": [
      "[[8.3651869e-03 9.6722031e-01 1.1814662e-03 1.5656564e-02 7.5764731e-03]\n",
      " [9.8612887e-01 4.1413172e-03 5.1098843e-03 1.3088109e-03 3.3110906e-03]\n",
      " [2.0012351e-02 2.4857463e-02 9.2544270e-01 1.3168171e-02 1.6519271e-02]\n",
      " [1.2904020e-02 2.7177982e-02 1.4529407e-01 8.0806768e-01 6.5561682e-03]\n",
      " [1.1181838e-02 4.1993782e-02 7.7205732e-02 5.1911543e-03 8.6442745e-01]\n",
      " [1.5829010e-02 1.5729915e-02 7.1455920e-03 3.5306616e-03 9.5776480e-01]\n",
      " [8.4135629e-02 2.7622923e-01 1.7417689e-01 1.4940681e-01 3.1605145e-01]\n",
      " [3.0618139e-02 6.2601365e-02 3.1516660e-02 8.7106115e-01 4.2027347e-03]\n",
      " [9.9348760e-01 1.5057939e-03 3.7664380e-03 3.4798463e-04 8.9217583e-04]\n",
      " [4.4347506e-02 3.4570643e-01 1.3411111e-01 2.7508941e-01 2.0074558e-01]]\n",
      "(10, 5)\n"
     ]
    }
   ],
   "source": [
    "print(res)\n",
    "print(res.shape)"
   ]
  },
  {
   "cell_type": "code",
   "execution_count": 115,
   "metadata": {
    "id": "3C1UodnEjvkA",
    "outputId": "fdfd6f7d-6693-4a6a-8bd6-7318a8fbdfa9"
   },
   "outputs": [
    {
     "data": {
      "text/plain": [
       "'Emergencia'"
      ]
     },
     "execution_count": 115,
     "metadata": {},
     "output_type": "execute_result"
    }
   ],
   "source": [
    "actions[np.argmax(res[2])] ##originalmente era 4"
   ]
  },
  {
   "cell_type": "code",
   "execution_count": 116,
   "metadata": {
    "id": "X-lQSctijvkA",
    "outputId": "f35d1058-8de3-435e-e6cc-4e0cedc96b3f"
   },
   "outputs": [
    {
     "data": {
      "text/plain": [
       "'Emergencia'"
      ]
     },
     "execution_count": 116,
     "metadata": {},
     "output_type": "execute_result"
    }
   ],
   "source": [
    "actions[np.argmax(y_test[2])]"
   ]
  },
  {
   "cell_type": "markdown",
   "metadata": {
    "id": "VI0lXjMzjvkB"
   },
   "source": [
    "9. Save Weights\n"
   ]
  },
  {
   "cell_type": "code",
   "execution_count": 117,
   "metadata": {
    "id": "gMKNehwsjvkB",
    "outputId": "0367d736-5164-47b5-e8f0-60c65b3b4ee8"
   },
   "outputs": [
    {
     "name": "stderr",
     "output_type": "stream",
     "text": [
      "WARNING:absl:You are saving your model as an HDF5 file via `model.save()` or `keras.saving.save_model(model)`. This file format is considered legacy. We recommend using instead the native Keras format, e.g. `model.save('my_model.keras')` or `keras.saving.save_model(model, 'my_model.keras')`. \n"
     ]
    }
   ],
   "source": [
    "model.save('Prueba1.h5')\n",
    "del model"
   ]
  },
  {
   "cell_type": "code",
   "execution_count": 118,
   "metadata": {},
   "outputs": [],
   "source": [
    "model = Sequential()\n",
    "model.add(LSTM(64, return_sequences=True, activation='tanh', input_shape=(30, 1662)))\n",
    "model.add(BatchNormalization())\n",
    "model.add(Dropout(0.3))\n",
    "\n",
    "model.add(LSTM(32, return_sequences=False, activation='tanh'))\n",
    "model.add(BatchNormalization())\n",
    "model.add(Dropout(0.3))\n",
    "\n",
    "model.add(Dense(32, activation='relu'))\n",
    "model.add(Dropout(0.2))\n",
    "\n",
    "model.add(Dense(5, activation='softmax')) "
   ]
  },
  {
   "cell_type": "code",
   "execution_count": 119,
   "metadata": {},
   "outputs": [],
   "source": [
    "opt = Adam(learning_rate=0.00005)  # más alto, ideal para datos pocos\n",
    "model.compile(optimizer=opt, loss='categorical_crossentropy', metrics=['categorical_accuracy'])"
   ]
  },
  {
   "cell_type": "code",
   "execution_count": 120,
   "metadata": {
    "id": "xbbPneCkjvkC"
   },
   "outputs": [],
   "source": [
    "model.load_weights('Prueba1.h5')"
   ]
  },
  {
   "cell_type": "markdown",
   "metadata": {
    "id": "sJDGuSPHjvkC"
   },
   "source": [
    "10. Evaluation using Confusion Matrix and Accuracy\n"
   ]
  },
  {
   "cell_type": "code",
   "execution_count": 121,
   "metadata": {
    "id": "WPVf_re9jvkC",
    "outputId": "f2abf533-8a55-4c74-e1d3-4ea1d6b1d245"
   },
   "outputs": [
    {
     "name": "stdout",
     "output_type": "stream",
     "text": [
      "WARNING:tensorflow:6 out of the last 6 calls to <function TensorFlowTrainer.make_predict_function.<locals>.one_step_on_data_distributed at 0x000002A586158700> triggered tf.function retracing. Tracing is expensive and the excessive number of tracings could be due to (1) creating @tf.function repeatedly in a loop, (2) passing tensors with different shapes, (3) passing Python objects instead of tensors. For (1), please define your @tf.function outside of the loop. For (2), @tf.function has reduce_retracing=True option that can avoid unnecessary retracing. For (3), please refer to https://www.tensorflow.org/guide/function#controlling_retracing and https://www.tensorflow.org/api_docs/python/tf/function for  more details.\n"
     ]
    },
    {
     "name": "stderr",
     "output_type": "stream",
     "text": [
      "WARNING:tensorflow:6 out of the last 6 calls to <function TensorFlowTrainer.make_predict_function.<locals>.one_step_on_data_distributed at 0x000002A586158700> triggered tf.function retracing. Tracing is expensive and the excessive number of tracings could be due to (1) creating @tf.function repeatedly in a loop, (2) passing tensors with different shapes, (3) passing Python objects instead of tensors. For (1), please define your @tf.function outside of the loop. For (2), @tf.function has reduce_retracing=True option that can avoid unnecessary retracing. For (3), please refer to https://www.tensorflow.org/guide/function#controlling_retracing and https://www.tensorflow.org/api_docs/python/tf/function for  more details.\n"
     ]
    },
    {
     "name": "stdout",
     "output_type": "stream",
     "text": [
      "\u001b[1m1/1\u001b[0m \u001b[32m━━━━━━━━━━━━━━━━━━━━\u001b[0m\u001b[37m\u001b[0m \u001b[1m0s\u001b[0m 197ms/step\n"
     ]
    }
   ],
   "source": [
    "yhat = model.predict(X_test)"
   ]
  },
  {
   "cell_type": "code",
   "execution_count": 122,
   "metadata": {
    "id": "pEHyvbyejvkC"
   },
   "outputs": [],
   "source": [
    "ytrue = np.argmax(y_test, axis=1).tolist()\n",
    "yhat = np.argmax(yhat, axis=1).tolist()"
   ]
  },
  {
   "cell_type": "code",
   "execution_count": 123,
   "metadata": {
    "id": "V_Neals3jvkD",
    "outputId": "e027b490-3d53-4af8-ae31-6af442a8386d"
   },
   "outputs": [
    {
     "data": {
      "text/plain": [
       "array([[[8, 0],\n",
       "        [0, 2]],\n",
       "\n",
       "       [[8, 1],\n",
       "        [0, 1]],\n",
       "\n",
       "       [[9, 0],\n",
       "        [0, 1]],\n",
       "\n",
       "       [[7, 0],\n",
       "        [1, 2]],\n",
       "\n",
       "       [[6, 1],\n",
       "        [1, 2]]], dtype=int64)"
      ]
     },
     "execution_count": 123,
     "metadata": {},
     "output_type": "execute_result"
    }
   ],
   "source": [
    "multilabel_confusion_matrix(ytrue, yhat)"
   ]
  },
  {
   "cell_type": "code",
   "execution_count": 124,
   "metadata": {
    "id": "Kq9kqPHMjvkD",
    "outputId": "16a1ed62-b1bf-43bc-f90d-2dd97b625476"
   },
   "outputs": [
    {
     "data": {
      "text/plain": [
       "0.8"
      ]
     },
     "execution_count": 124,
     "metadata": {},
     "output_type": "execute_result"
    }
   ],
   "source": [
    "accuracy_score(ytrue, yhat)"
   ]
  },
  {
   "cell_type": "code",
   "execution_count": 125,
   "metadata": {},
   "outputs": [
    {
     "data": {
      "image/png": "[encoded data removed]",
      "text/plain": [
       "<Figure size 800x600 with 2 Axes>"
      ]
     },
     "metadata": {},
     "output_type": "display_data"
    }
   ],
   "source": [
    "cm = confusion_matrix(ytrue, yhat)\n",
    "plt.figure(figsize=(8,6))\n",
    "sns.heatmap(cm, annot=True, fmt='d', cmap='Blues', xticklabels=actions, yticklabels=actions)\n",
    "plt.xlabel('Predicted')\n",
    "plt.ylabel('True')\n",
    "plt.title('Matriz de Confusión')\n",
    "plt.show()"
   ]
  }
 ],
 "metadata": {
  "colab": {
   "gpuType": "T4",
   "provenance": []
  },
  "kernelspec": {
   "display_name": "LSMenv",
   "language": "python",
   "name": "python3"
  },
  "language_info": {
   "codemirror_mode": {
    "name": "ipython",
    "version": 3
   },
   "file_extension": ".py",
   "mimetype": "text/x-python",
   "name": "python",
   "nbconvert_exporter": "python",
   "pygments_lexer": "ipython3",
   "version": "3.10.18"
  }
 },
 "nbformat": 4,
 "nbformat_minor": 0
}
